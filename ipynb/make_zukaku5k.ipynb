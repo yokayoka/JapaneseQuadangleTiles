{
 "cells": [
  {
   "cell_type": "markdown",
   "id": "872d3da6",
   "metadata": {},
   "source": [
    "1/5000国土基本図郭のポリゴンを作成する\n",
    "on 1 Sep. 2021 by Hiromu Daimaru"
   ]
  },
  {
   "cell_type": "code",
   "execution_count": 1,
   "id": "52dd9eee",
   "metadata": {},
   "outputs": [],
   "source": [
    "# ライブラリをインポートする\n",
    "import pandas as pd\n",
    "import geopandas as gpd\n",
    "from shapely.geometry import Point, Polygon\n",
    "import fiona\n",
    "# from fiona.crs import from_epsg"
   ]
  },
  {
   "cell_type": "code",
   "execution_count": 2,
   "id": "e62627a0",
   "metadata": {},
   "outputs": [],
   "source": [
    "# データ収納用の空のデータフレームを作成する\n",
    "dfMesh = gpd.GeoDataFrame()\n",
    "dfMesh['geometry'] = None\n",
    "dfMesh['code'] = None"
   ]
  },
  {
   "cell_type": "code",
   "execution_count": 3,
   "id": "e9839b05",
   "metadata": {},
   "outputs": [],
   "source": [
    "# 平面直角座標系（19座標系）の番号を指定\n",
    "code19 = 10"
   ]
  },
  {
   "cell_type": "markdown",
   "id": "b273c8df",
   "metadata": {},
   "source": [
    "国土基本図図郭の命名ルールについては下記を参照\n",
    "空間情報クラブ\n",
    "https://club.informatix.co.jp/?p=1293"
   ]
  },
  {
   "cell_type": "code",
   "execution_count": 4,
   "id": "7c8d3c89",
   "metadata": {},
   "outputs": [],
   "source": [
    "# 1/50000図郭名のＸ成分、Ｙ成分の配列を作成する\n",
    "x_code50k = [chr(i) for i in range(ord('A'), ord('H')+1)]\n",
    "y_code50k = [chr(i) for i in range(ord('A'),ord('T')+1  )]\n",
    "# Yの順を逆にする（高緯度－＞低緯度の順なので）\n",
    "y_code50k.reverse()"
   ]
  },
  {
   "cell_type": "code",
   "execution_count": 5,
   "id": "270b69ce",
   "metadata": {},
   "outputs": [],
   "source": [
    "# 1/50000図郭の座標値の配列を作成する\n",
    "x_loc50k = [i * 40000 for i in range(-4, 4+1)]\n",
    "y_loc50k = [i * 30000 for i in range(-10, 10 + 1)]"
   ]
  },
  {
   "cell_type": "code",
   "execution_count": 6,
   "id": "b739be45",
   "metadata": {},
   "outputs": [],
   "source": [
    "# 1/5000図郭の座標値の配列を作成する\n",
    "x_loc5k = [i * 4000 for i in range(0, 10 + 1)]\n",
    "y_loc5k = [i * -3000 for i in range(0, 10 + 1)]"
   ]
  },
  {
   "cell_type": "code",
   "execution_count": 7,
   "id": "450d291e",
   "metadata": {},
   "outputs": [],
   "source": [
    "id = 0\n",
    "for y50k in range(len(y_code50k)):\n",
    "    for x50k in range(len(x_code50k)):\n",
    "        code50k = y_code50k[y50k] + x_code50k[x50k] \n",
    "        x_min50k = x_loc50k[x50k]\n",
    "        y_min50k = y_loc50k[y50k]\n",
    "        x_max50k = x_loc50k[x50k + 1]\n",
    "        y_max50k = y_loc50k[y50k + 1]\n",
    "        coordinates50k = ((x_min50k, y_min50k), (x_min50k, y_max50k), (x_max50k, y_max50k), (x_max50k, y_min50k), (x_min50k, y_min50k))\n",
    "        for y5k in range(10):\n",
    "            y_max5k = y_max50k + y_loc5k[y5k]\n",
    "            y_min5k = y_max50k + y_loc5k[y5k+1]\n",
    "            for x5k in range(10):\n",
    "                x_min5k = x_min50k + x_loc5k[x5k]\n",
    "                x_max5k = x_min50k + x_loc5k[x5k+1]                \n",
    "                coordinates5k = ((x_min5k, y_min5k), (x_min5k, y_max5k), (x_max5k, y_max5k), (x_max5k, y_min5k), (x_min5k, y_min5k))                 \n",
    "                poly = Polygon(coordinates5k)\n",
    "                code5k = str(y5k) + str(x5k)\n",
    "                code = str(code19).zfill(2) + code50k + code5k\n",
    "                dfMesh.loc[id, 'geometry'] = poly\n",
    "                dfMesh.loc[id, 'code'] = code\n",
    "                id += 1"
   ]
  },
  {
   "cell_type": "code",
   "execution_count": 8,
   "id": "034a025a",
   "metadata": {},
   "outputs": [
    {
     "data": {
      "text/html": [
       "<div>\n",
       "<style scoped>\n",
       "    .dataframe tbody tr th:only-of-type {\n",
       "        vertical-align: middle;\n",
       "    }\n",
       "\n",
       "    .dataframe tbody tr th {\n",
       "        vertical-align: top;\n",
       "    }\n",
       "\n",
       "    .dataframe thead th {\n",
       "        text-align: right;\n",
       "    }\n",
       "</style>\n",
       "<table border=\"1\" class=\"dataframe\">\n",
       "  <thead>\n",
       "    <tr style=\"text-align: right;\">\n",
       "      <th></th>\n",
       "      <th>geometry</th>\n",
       "      <th>code</th>\n",
       "    </tr>\n",
       "  </thead>\n",
       "  <tbody>\n",
       "    <tr>\n",
       "      <th>0</th>\n",
       "      <td>POLYGON ((-160000.000 -273000.000, -160000.000...</td>\n",
       "      <td>10TA00</td>\n",
       "    </tr>\n",
       "    <tr>\n",
       "      <th>1</th>\n",
       "      <td>POLYGON ((-156000.000 -273000.000, -156000.000...</td>\n",
       "      <td>10TA01</td>\n",
       "    </tr>\n",
       "    <tr>\n",
       "      <th>2</th>\n",
       "      <td>POLYGON ((-152000.000 -273000.000, -152000.000...</td>\n",
       "      <td>10TA02</td>\n",
       "    </tr>\n",
       "    <tr>\n",
       "      <th>3</th>\n",
       "      <td>POLYGON ((-148000.000 -273000.000, -148000.000...</td>\n",
       "      <td>10TA03</td>\n",
       "    </tr>\n",
       "    <tr>\n",
       "      <th>4</th>\n",
       "      <td>POLYGON ((-144000.000 -273000.000, -144000.000...</td>\n",
       "      <td>10TA04</td>\n",
       "    </tr>\n",
       "  </tbody>\n",
       "</table>\n",
       "</div>"
      ],
      "text/plain": [
       "                                            geometry    code\n",
       "0  POLYGON ((-160000.000 -273000.000, -160000.000...  10TA00\n",
       "1  POLYGON ((-156000.000 -273000.000, -156000.000...  10TA01\n",
       "2  POLYGON ((-152000.000 -273000.000, -152000.000...  10TA02\n",
       "3  POLYGON ((-148000.000 -273000.000, -148000.000...  10TA03\n",
       "4  POLYGON ((-144000.000 -273000.000, -144000.000...  10TA04"
      ]
     },
     "execution_count": 8,
     "metadata": {},
     "output_type": "execute_result"
    }
   ],
   "source": [
    "dfMesh.head()"
   ]
  },
  {
   "cell_type": "code",
   "execution_count": 9,
   "id": "76b58bde",
   "metadata": {},
   "outputs": [
    {
     "name": "stderr",
     "output_type": "stream",
     "text": [
      "C:\\Users\\hirom\\Anaconda3\\envs\\geopandas\\lib\\site-packages\\pyproj\\crs\\crs.py:68: FutureWarning: '+init=<authority>:<code>' syntax is deprecated. '<authority>:<code>' is the preferred initialization method. When making the change, be mindful of axis order changes: https://pyproj4.github.io/pyproj/stable/gotchas.html#axis-order-changes-in-proj-6\n",
      "  return _prepare_from_string(\" \".join(pjargs))\n"
     ]
    }
   ],
   "source": [
    "# 座標系を平面直角座標系（JGD2011）に設定\n",
    "# 19座標系のEPSGコードは下記を参照\n",
    "# https://tmizu23.hatenablog.com/entry/20091215/1260868350\n",
    "from fiona.crs import from_epsg\n",
    "dfMesh.crs = from_epsg(6668 + code19)\n",
    "# dfMesh.crs"
   ]
  },
  {
   "cell_type": "code",
   "execution_count": 10,
   "id": "f008678a",
   "metadata": {},
   "outputs": [
    {
     "data": {
      "text/html": [
       "<div>\n",
       "<style scoped>\n",
       "    .dataframe tbody tr th:only-of-type {\n",
       "        vertical-align: middle;\n",
       "    }\n",
       "\n",
       "    .dataframe tbody tr th {\n",
       "        vertical-align: top;\n",
       "    }\n",
       "\n",
       "    .dataframe thead th {\n",
       "        text-align: right;\n",
       "    }\n",
       "</style>\n",
       "<table border=\"1\" class=\"dataframe\">\n",
       "  <thead>\n",
       "    <tr style=\"text-align: right;\">\n",
       "      <th></th>\n",
       "      <th>geometry</th>\n",
       "      <th>code</th>\n",
       "      <th>area</th>\n",
       "    </tr>\n",
       "  </thead>\n",
       "  <tbody>\n",
       "    <tr>\n",
       "      <th>0</th>\n",
       "      <td>POLYGON ((-160000.000 -273000.000, -160000.000...</td>\n",
       "      <td>10TA00</td>\n",
       "      <td>12000000.0</td>\n",
       "    </tr>\n",
       "    <tr>\n",
       "      <th>1</th>\n",
       "      <td>POLYGON ((-156000.000 -273000.000, -156000.000...</td>\n",
       "      <td>10TA01</td>\n",
       "      <td>12000000.0</td>\n",
       "    </tr>\n",
       "    <tr>\n",
       "      <th>2</th>\n",
       "      <td>POLYGON ((-152000.000 -273000.000, -152000.000...</td>\n",
       "      <td>10TA02</td>\n",
       "      <td>12000000.0</td>\n",
       "    </tr>\n",
       "    <tr>\n",
       "      <th>3</th>\n",
       "      <td>POLYGON ((-148000.000 -273000.000, -148000.000...</td>\n",
       "      <td>10TA03</td>\n",
       "      <td>12000000.0</td>\n",
       "    </tr>\n",
       "    <tr>\n",
       "      <th>4</th>\n",
       "      <td>POLYGON ((-144000.000 -273000.000, -144000.000...</td>\n",
       "      <td>10TA04</td>\n",
       "      <td>12000000.0</td>\n",
       "    </tr>\n",
       "  </tbody>\n",
       "</table>\n",
       "</div>"
      ],
      "text/plain": [
       "                                            geometry    code        area\n",
       "0  POLYGON ((-160000.000 -273000.000, -160000.000...  10TA00  12000000.0\n",
       "1  POLYGON ((-156000.000 -273000.000, -156000.000...  10TA01  12000000.0\n",
       "2  POLYGON ((-152000.000 -273000.000, -152000.000...  10TA02  12000000.0\n",
       "3  POLYGON ((-148000.000 -273000.000, -148000.000...  10TA03  12000000.0\n",
       "4  POLYGON ((-144000.000 -273000.000, -144000.000...  10TA04  12000000.0"
      ]
     },
     "execution_count": 10,
     "metadata": {},
     "output_type": "execute_result"
    }
   ],
   "source": [
    "dfMesh['area'] = dfMesh['geometry'].area\n",
    "dfMesh.head()"
   ]
  },
  {
   "cell_type": "code",
   "execution_count": 11,
   "id": "9dddaac2",
   "metadata": {},
   "outputs": [],
   "source": [
    "# WGS1984（緯度経度）に投影変換\n",
    "dfMesh=dfMesh.to_crs(epsg=4326)"
   ]
  },
  {
   "cell_type": "code",
   "execution_count": 12,
   "id": "5b064d71",
   "metadata": {},
   "outputs": [
    {
     "data": {
      "text/plain": [
       "<Geographic 2D CRS: EPSG:4326>\n",
       "Name: WGS 84\n",
       "Axis Info [ellipsoidal]:\n",
       "- Lat[north]: Geodetic latitude (degree)\n",
       "- Lon[east]: Geodetic longitude (degree)\n",
       "Area of Use:\n",
       "- name: World.\n",
       "- bounds: (-180.0, -90.0, 180.0, 90.0)\n",
       "Datum: World Geodetic System 1984 ensemble\n",
       "- Ellipsoid: WGS 84\n",
       "- Prime Meridian: Greenwich"
      ]
     },
     "execution_count": 12,
     "metadata": {},
     "output_type": "execute_result"
    }
   ],
   "source": [
    "dfMesh.crs"
   ]
  },
  {
   "cell_type": "code",
   "execution_count": 13,
   "id": "72a79a3f",
   "metadata": {},
   "outputs": [
    {
     "data": {
      "text/html": [
       "<div>\n",
       "<style scoped>\n",
       "    .dataframe tbody tr th:only-of-type {\n",
       "        vertical-align: middle;\n",
       "    }\n",
       "\n",
       "    .dataframe tbody tr th {\n",
       "        vertical-align: top;\n",
       "    }\n",
       "\n",
       "    .dataframe thead th {\n",
       "        text-align: right;\n",
       "    }\n",
       "</style>\n",
       "<table border=\"1\" class=\"dataframe\">\n",
       "  <thead>\n",
       "    <tr style=\"text-align: right;\">\n",
       "      <th></th>\n",
       "      <th>geometry</th>\n",
       "      <th>code</th>\n",
       "      <th>area</th>\n",
       "    </tr>\n",
       "  </thead>\n",
       "  <tbody>\n",
       "    <tr>\n",
       "      <th>0</th>\n",
       "      <td>POLYGON ((139.02315 37.52667, 139.02250 37.553...</td>\n",
       "      <td>10TA00</td>\n",
       "      <td>12000000.0</td>\n",
       "    </tr>\n",
       "    <tr>\n",
       "      <th>1</th>\n",
       "      <td>POLYGON ((139.06839 37.52735, 139.06775 37.554...</td>\n",
       "      <td>10TA01</td>\n",
       "      <td>12000000.0</td>\n",
       "    </tr>\n",
       "    <tr>\n",
       "      <th>2</th>\n",
       "      <td>POLYGON ((139.11362 37.52802, 139.11300 37.555...</td>\n",
       "      <td>10TA02</td>\n",
       "      <td>12000000.0</td>\n",
       "    </tr>\n",
       "    <tr>\n",
       "      <th>3</th>\n",
       "      <td>POLYGON ((139.15886 37.52867, 139.15826 37.555...</td>\n",
       "      <td>10TA03</td>\n",
       "      <td>12000000.0</td>\n",
       "    </tr>\n",
       "    <tr>\n",
       "      <th>4</th>\n",
       "      <td>POLYGON ((139.20410 37.52930, 139.20351 37.556...</td>\n",
       "      <td>10TA04</td>\n",
       "      <td>12000000.0</td>\n",
       "    </tr>\n",
       "  </tbody>\n",
       "</table>\n",
       "</div>"
      ],
      "text/plain": [
       "                                            geometry    code        area\n",
       "0  POLYGON ((139.02315 37.52667, 139.02250 37.553...  10TA00  12000000.0\n",
       "1  POLYGON ((139.06839 37.52735, 139.06775 37.554...  10TA01  12000000.0\n",
       "2  POLYGON ((139.11362 37.52802, 139.11300 37.555...  10TA02  12000000.0\n",
       "3  POLYGON ((139.15886 37.52867, 139.15826 37.555...  10TA03  12000000.0\n",
       "4  POLYGON ((139.20410 37.52930, 139.20351 37.556...  10TA04  12000000.0"
      ]
     },
     "execution_count": 13,
     "metadata": {},
     "output_type": "execute_result"
    }
   ],
   "source": [
    "dfMesh.head()"
   ]
  },
  {
   "cell_type": "code",
   "execution_count": 14,
   "id": "9e735fdf",
   "metadata": {},
   "outputs": [],
   "source": [
    "#シェープファイル名を指定して出力　下記の右辺は任意のパスに変更してください\n",
    "outfp = r\"shapefile\\zukaku_mesh_XY\"+ str(code19)+ r\".shp\"\n",
    "dfMesh.to_file(outfp)"
   ]
  },
  {
   "cell_type": "code",
   "execution_count": 15,
   "id": "d6df6c07",
   "metadata": {},
   "outputs": [],
   "source": [
    "# jsonファイル名を指定して出力\n",
    "# outfp = r\"C:\\Users\\hirom\\Dropbox\\learning\\udemy_geopandas\\geopandas\\zukaku\\geojson\\zukaku_mesh_\"+ str(code19)+ r\".geojson\"\n",
    "# dfMesh.to_file(outfp, driver=\"GeoJSON\")"
   ]
  }
 ],
 "metadata": {
  "kernelspec": {
   "display_name": "Python 3 (ipykernel)",
   "language": "python",
   "name": "python3"
  },
  "language_info": {
   "codemirror_mode": {
    "name": "ipython",
    "version": 3
   },
   "file_extension": ".py",
   "mimetype": "text/x-python",
   "name": "python",
   "nbconvert_exporter": "python",
   "pygments_lexer": "ipython3",
   "version": "3.7.10"
  }
 },
 "nbformat": 4,
 "nbformat_minor": 5
}
